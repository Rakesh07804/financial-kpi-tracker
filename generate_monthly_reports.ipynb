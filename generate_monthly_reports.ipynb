{
  "nbformat": 4,
  "nbformat_minor": 0,
  "metadata": {
    "colab": {
      "provenance": []
    },
    "kernelspec": {
      "name": "python3",
      "display_name": "Python 3"
    },
    "language_info": {
      "name": "python"
    }
  },
  "cells": [
    {
      "cell_type": "code",
      "execution_count": 4,
      "metadata": {
        "colab": {
          "base_uri": "https://localhost:8080/"
        },
        "id": "WjMwDY37WgcT",
        "outputId": "ff61e856-ffc3-4479-eb28-849c19dadeea"
      },
      "outputs": [
        {
          "output_type": "stream",
          "name": "stdout",
          "text": [
            "✅ Exported Marketing report to ../reports/Marketing_KPI_Report.xlsx\n",
            "✅ Exported HR report to ../reports/HR_KPI_Report.xlsx\n"
          ]
        }
      ],
      "source": [
        "# generate_monthly_reports.py\n",
        "\n",
        "import pandas as pd\n",
        "import os\n",
        "\n",
        "# Load KPI data\n",
        "file_path = \"../processed_financial_kpis.xlsx\"  # adjust path if needed\n",
        "df = pd.read_excel(file_path)\n",
        "\n",
        "# Create output directory if it doesn't exist\n",
        "output_dir = \"../reports\"\n",
        "os.makedirs(output_dir, exist_ok=True)\n",
        "\n",
        "# Group by department and export individual files\n",
        "departments = df['Department'].unique()\n",
        "\n",
        "for dept in departments:\n",
        "    dept_df = df[df['Department'] == dept]\n",
        "    output_file = os.path.join(output_dir, f\"{dept}_KPI_Report.xlsx\")\n",
        "    dept_df.to_excel(output_file, index=False)\n",
        "    print(f\"✅ Exported {dept} report to {output_file}\")\n"
      ]
    },
    {
      "cell_type": "code",
      "source": [],
      "metadata": {
        "id": "IWyA8_BSWnFs"
      },
      "execution_count": null,
      "outputs": []
    }
  ]
}