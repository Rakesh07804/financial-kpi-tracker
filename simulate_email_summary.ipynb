{
  "nbformat": 4,
  "nbformat_minor": 0,
  "metadata": {
    "colab": {
      "provenance": []
    },
    "kernelspec": {
      "name": "python3",
      "display_name": "Python 3"
    },
    "language_info": {
      "name": "python"
    }
  },
  "cells": [
    {
      "cell_type": "code",
      "execution_count": 2,
      "metadata": {
        "colab": {
          "base_uri": "https://localhost:8080/"
        },
        "id": "BuL5j9KnUwmE",
        "outputId": "42b295b6-4fec-4895-fc13-8caa26b0513a"
      },
      "outputs": [
        {
          "output_type": "stream",
          "name": "stdout",
          "text": [
            "\n",
            "Subject: Monthly Financial KPI Report – August 2025\n",
            "\n",
            "Dear Team,\n",
            "\n",
            "Please find below the financial performance summary for August 2025:\n",
            "\n",
            "- Total Budget: ₹4,198,580.00\n",
            "- Total Actual: ₹4,397,151.00\n",
            "- Utilization: 104.73%\n",
            "\n",
            "Departments over budget:\n",
            "✅ All departments are within budget.\n",
            "\n",
            "Reports have been generated and saved.\n",
            "\n",
            "Regards,\n",
            "Finance Automation Bot 🤖\n",
            "\n"
          ]
        }
      ],
      "source": [
        "# simulate_email_summary.py\n",
        "\n",
        "import pandas as pd\n",
        "from datetime import datetime\n",
        "\n",
        "# Load KPI data\n",
        "file_path = \"../processed_financial_kpis.xlsx\"  # adjust path if needed\n",
        "df = pd.read_excel(file_path)\n",
        "\n",
        "# Calculate totals\n",
        "total_budget = df['Budget'].sum()\n",
        "total_actual = df['Actual'].sum()\n",
        "utilization = (total_actual / total_budget) * 100\n",
        "\n",
        "# Get current month/year (or let user define it)\n",
        "report_date = datetime.now().strftime(\"%B %Y\")\n",
        "\n",
        "# Find over-budget departments\n",
        "over_budget = df[df['Over Budget'] == \"Yes\"]['Department'].unique()\n",
        "\n",
        "# Email template\n",
        "email_body = f\"\"\"\n",
        "Subject: Monthly Financial KPI Report – {report_date}\n",
        "\n",
        "Dear Team,\n",
        "\n",
        "Please find below the financial performance summary for {report_date}:\n",
        "\n",
        "- Total Budget: ₹{total_budget:,.2f}\n",
        "- Total Actual: ₹{total_actual:,.2f}\n",
        "- Utilization: {utilization:.2f}%\n",
        "\n",
        "Departments over budget:\n",
        "{chr(10).join(['- ' + dept for dept in over_budget]) if len(over_budget) > 0 else '✅ All departments are within budget.'}\n",
        "\n",
        "Reports have been generated and saved.\n",
        "\n",
        "Regards,\n",
        "Finance Automation Bot 🤖\n",
        "\"\"\"\n",
        "\n",
        "print(email_body)\n"
      ]
    },
    {
      "cell_type": "code",
      "source": [],
      "metadata": {
        "id": "V62HXBteU18u"
      },
      "execution_count": null,
      "outputs": []
    }
  ]
}